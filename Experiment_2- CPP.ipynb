{
 "cells": [
  {
   "cell_type": "markdown",
   "metadata": {},
   "source": [
    "### Page Replacement Algorithms:\n",
    "\n",
    "There are different page replacement algorithms and yet there seems to be some drawbacks in them, making no page replacement algorithm ideal. To be one step closer to achieving the ideal algorithm it is vital to have a maximum cache hit ratio and strong consistent across different workload."
   ]
  },
  {
   "cell_type": "code",
   "execution_count": 131,
   "metadata": {},
   "outputs": [],
   "source": [
    "from tqdm import tqdm_notebook as tqdm \n",
    "import numpy as np\n",
    "from collections import deque, defaultdict"
   ]
  },
  {
   "cell_type": "markdown",
   "metadata": {},
   "source": [
    "### Optimal Page replacement algorithm:\n",
    "The OPT algorithm is a theoretical concept which evicts the block from the cache based on future access predictions of the blocks present in the cache, this algorithm is hard to achieve as future predictions on the access can not be determined."
   ]
  },
  {
   "cell_type": "code",
   "execution_count": 132,
   "metadata": {},
   "outputs": [],
   "source": [
    "#finding the block which is avaialble in future\n",
    "def findfar(blk, frm):\n",
    "    farthest = 0\n",
    "    far_ind = {}\n",
    "    nomore = []\n",
    "    for v in frm:\n",
    "        if v not in blk:\n",
    "            far_ind[v] = -1\n",
    "        elif v in blk:\n",
    "            far_ind[v] = blk.index(v)\n",
    "    srtdlst = sorted(far_ind.items(), key=lambda item:item[1], reverse= True)\n",
    "\n",
    "    for (k,v) in srtdlst:\n",
    "        if v == -1:\n",
    "            nomore.append(k)\n",
    "    if nomore:\n",
    "        return nomore[0]\n",
    "    else:\n",
    "        return srtdlst[0][0]\n",
    "    "
   ]
  },
  {
   "cell_type": "code",
   "execution_count": 133,
   "metadata": {},
   "outputs": [],
   "source": [
    "#Offline optimal page replacemnt algorithm\n",
    "def OPT(blk,size):\n",
    "    frame = set()\n",
    "    hits = 0\n",
    "    misses = 0\n",
    "    isfull = False\n",
    "    \n",
    "    for i,b in enumerate(blk):\n",
    "        \n",
    "        if b not in frame:\n",
    "            misses += 1\n",
    "\n",
    "            if len(frame) == size:\n",
    "                isfull = True\n",
    "            if not isfull:\n",
    "                frame.add(b)\n",
    "            else:\n",
    "                farthest = findfar(blk[i+1:], frame)\n",
    "                frame.discard(farthest)\n",
    "                frame.add(b)\n",
    "        else:\n",
    "            hits += 1\n",
    "    return hits/(hits+misses)\n",
    "\n"
   ]
  },
  {
   "cell_type": "markdown",
   "metadata": {},
   "source": [
    "### LRU(Least Recently Used) Page replacement algorithm\n",
    "The simplest algorithm used to manage the cache data is the LRU.\n",
    "The LRU algorithm ensures that when a block present in the cache is accessed the block is moved to the top of the stack. When block not present in the cache is accessed, the newly accessed block takes the place of the least recent block in the cache."
   ]
  },
  {
   "cell_type": "code",
   "execution_count": 134,
   "metadata": {},
   "outputs": [],
   "source": [
    "def LRU(blocktrace, frame):\n",
    "    \n",
    "    cache = set()\n",
    "    recency = deque()\n",
    "    hit, miss = 0, 0\n",
    "    \n",
    "    for block in tqdm(blocktrace, leave=False):\n",
    "        \n",
    "        if block in cache:\n",
    "            recency.remove(block)\n",
    "            recency.append(block)\n",
    "            hit += 1\n",
    "            \n",
    "        elif len(cache) < frame:\n",
    "            cache.add(block)\n",
    "            recency.append(block)\n",
    "            miss += 1\n",
    "            \n",
    "        else:\n",
    "            cache.remove(recency[0])\n",
    "            recency.popleft()\n",
    "            cache.add(block)\n",
    "            recency.append(block)\n",
    "            miss += 1\n",
    "    \n",
    "    hitrate = hit / (hit + miss)\n",
    "    return hitrate"
   ]
  },
  {
   "cell_type": "markdown",
   "metadata": {},
   "source": [
    "### LFU(Least frequently used) Page replacement algortihm:\n",
    "In contrast to the LRU algorithm, this algorithm computes the frequency of access for every block. When the block present in the cache is accessed the block’s frequency will increase, when a block not present in the cache is accessed then the newly accessed block replaces the least frequency block in the cache."
   ]
  },
  {
   "cell_type": "code",
   "execution_count": 135,
   "metadata": {},
   "outputs": [],
   "source": [
    "def LFU(blocktrace, frame):\n",
    "    \n",
    "    cache = set()\n",
    "    cache_frequency = defaultdict(int)\n",
    "    frequency = defaultdict(int)\n",
    "    \n",
    "    hit, miss = 0, 0\n",
    "    \n",
    "    for block in tqdm(blocktrace):\n",
    "        frequency[block] += 1\n",
    "        \n",
    "        if block in cache:\n",
    "            hit += 1\n",
    "            cache_frequency[block] += 1\n",
    "        \n",
    "        elif len(cache) < frame:\n",
    "            cache.add(block)\n",
    "            cache_frequency[block] += 1\n",
    "            miss += 1\n",
    "\n",
    "        else:\n",
    "            \n",
    "            e, f = min(cache_frequency.items(), key=lambda a: a[1])\n",
    "            cache_frequency.pop(e)\n",
    "            cache.remove(e)\n",
    "            cache.add(block)\n",
    "            cache_frequency[block] = frequency[block]\n",
    "            miss += 1\n",
    "    \n",
    "    hitrate = hit / ( hit + miss )\n",
    "    return hitrate"
   ]
  },
  {
   "cell_type": "markdown",
   "metadata": {},
   "source": [
    "### DAS (Dynamic And Stable) Page Replacement Algorithm:\n",
    "This algorithm has achieved consistent hit ratio by using the fundamentals of page replacement algorithm which are: low recency and high frequency of the blocks. To achieve this stability we have to integrate the design principles of LRU and LFU in the cache and the blocks have been placed blocks according to the hit on the block, the above mentioned is done using simple computations."
   ]
  },
  {
   "cell_type": "code",
   "execution_count": 136,
   "metadata": {},
   "outputs": [],
   "source": [
    "def DAS(block, frame):\n",
    "    \n",
    "    #set frames of two cache\n",
    "    LRUframe=int(0.1 * frame)\n",
    "    LFUframe= frame - LRUframe\n",
    "    \n",
    "    #initial declare of hit and miss\n",
    "    hit,miss,LRU_hit, LFU_hit=0,0,0,0\n",
    "    \n",
    "    #inital set declare for LRU and LFU\n",
    "    LRUcache= deque()\n",
    "    LFUcache= deque()\n",
    "\n",
    "    LFU_cache_frequency = defaultdict(int)\n",
    "    frequency = defaultdict(int)\n",
    "    LRU_cache_frequency = defaultdict(int)\n",
    "    \n",
    "    for block in tqdm(block):\n",
    "        frequency[block] += 1\n",
    "        if block in LRUcache or block in LFUcache:\n",
    "            hit+=1\n",
    "            #checked\n",
    "            if block in LFUcache:\n",
    "                LFU_hit +=1\n",
    "                LFU_cache_frequency[block] += 1\n",
    "               \n",
    "            if block in LRUcache:\n",
    "                LRU_hit +=1\n",
    "                LRU_cache_frequency[block] += 1\n",
    "                \n",
    "                #checked\n",
    "                if len(LFUcache) < LFUframe:\n",
    "                    \n",
    "                    LRUcache.remove(block)\n",
    "                    LFUcache.append(block)\n",
    "                    LFU_cache_frequency[block] = LRU_cache_frequency[block]\n",
    "                    del LRU_cache_frequency[block]\n",
    "                    \n",
    "                else: \n",
    "                    #block, frequency\n",
    "                    e, LFU_fre = min(LFU_cache_frequency.items(), key=lambda a: a[1])\n",
    "                    #print(e, LFU_fre)\n",
    "                    LRUcache.remove(block)\n",
    "                    LFUcache.append(block)\n",
    "                    LFU_cache_frequency[block] = LRU_cache_frequency[block]\n",
    "                    del LRU_cache_frequency[block]\n",
    "                    \n",
    "                    LFUcache.remove(e)\n",
    "                    LRUcache.append(e)\n",
    "                    LRU_cache_frequency[e] = LFU_fre\n",
    "                    del LFU_cache_frequency[e]\n",
    "\n",
    "        elif (len(LRUcache) + len(LFUcache)) < frame:\n",
    "            miss += 1\n",
    "        #first i will fill LRU block \n",
    "            if len(LRUcache) <= LRUframe-1:\n",
    "                LRUcache.append(block)\n",
    "                LRU_cache_frequency[block] += 1\n",
    "                #print(\"LRUcache\", LRUcache)\n",
    "            else:\n",
    "             #now if recent clock\n",
    "                if len(LFUcache) <= LFUframe-1:\n",
    "                    LFU_cache_frequency[block] += 1\n",
    "                    LFUcache.append(block)\n",
    "        else:\n",
    "            #adding miss block in cache\n",
    "            miss += 1\n",
    "            #print(len(LFUcache), len(LRUcache))\n",
    "            old = LRUcache.popleft()\n",
    "            LRUcache.append(block)\n",
    "            del LRU_cache_frequency[old]\n",
    "            LRU_cache_frequency[block] = frequency[block]\n",
    "            \n",
    "    hitrate = hit /(hit+ miss)\n",
    "    return hitrate\n",
    "   "
   ]
  },
  {
   "cell_type": "code",
   "execution_count": null,
   "metadata": {},
   "outputs": [],
   "source": [
    "import pandas as pd\n",
    "DAS_hit =[]\n",
    "LRU_hit = []\n",
    "LFU_hit = []\n",
    "OPT_hit = []\n",
    "\n",
    "size = [60,80,100,120,140,160,180,200,250,300,350,400,450]\n",
    "\n",
    "for i in range(len(size)):\n",
    "    f = open(\"cpp.trc\", 'r')\n",
    "    DAS_hit.append(round(DAS(f,size[i])*100 ,2))                                                                \n",
    "dict = {'x': size, 'y': DAS_hit}     # dictionary of lists      \n",
    "DAS_df = pd.DataFrame(dict)          #print(dict)\n",
    "DAS_df.to_csv('cpp_DAS.csv')     # saving the dataframe \n",
    "\n",
    "for i in range(len(size)):\n",
    "    f = open(\"cpp.trc\", 'r')\n",
    "    LRU_hit.append(round(LRU(f,size[i])*100 ,2))                                                                \n",
    "dict = {'x': size, 'y': LRU_hit}     # dictionary of lists      \n",
    "LRU_df = pd.DataFrame(dict)          #print(dict)\n",
    "LRU_df.to_csv('cpp_LRU.csv')     # saving the dataframe \n",
    "\n",
    "for i in range(len(size)):\n",
    "    f = open(\"cpp.trc\", 'r')\n",
    "    LFU_hit.append(round(LFU(f,size[i])*100 ,2))                                                                \n",
    "dict = {'x': size, 'y': LFU_hit}     # dictionary of lists      \n",
    "LFU_df = pd.DataFrame(dict)          #print(dict)\n",
    "LFU_df.to_csv('cpp_LFU.csv')     # saving the dataframe \n",
    "\n",
    "for i in range(len(size)):\n",
    "    #f = open(\"test.txt\", 'r')\n",
    "    lineList = [line.rstrip('\\n') for line in open(\"cpp.trc\")]\n",
    "    OPT_hit.append(round(OPT(lineList,size[i])*100 ,2))\n",
    "#print(hit)\n",
    "   # dictionary of lists  \n",
    "dict = {'x': size, 'y': OPT_hit}  \n",
    "     \n",
    "OPT_df = pd.DataFrame(dict) \n",
    "  \n",
    "# saving the dataframe \n",
    "OPT_df.to_csv('cpp_OPT.csv')\n"
   ]
  },
  {
   "cell_type": "markdown",
   "metadata": {},
   "source": [
    "### Experiment 2  with trace \"cpp\" is a GNU C compiler pre-processor trace. The total size of C source programs used as input is roughly 11 MB.\n",
    "\n",
    "when the cache size is 50 blocks, hit rate of LRU is 9.3%, while hit rate of DAS is 38.0%. This is because holding a major frequency and recency together forms needs of about100 blocks. LRU can not exploit frequency until enough cache space is available to hold all the recently referenced blocks.\n"
   ]
  },
  {
   "cell_type": "code",
   "execution_count": 90,
   "metadata": {},
   "outputs": [
    {
     "data": {
      "text/plain": [
       "<matplotlib.legend.Legend at 0x1b3a714c5c0>"
      ]
     },
     "execution_count": 90,
     "metadata": {},
     "output_type": "execute_result"
    },
    {
     "data": {
      "image/png": "[encoded data removed]",
      "text/plain": [
       "<Figure size 432x288 with 1 Axes>"
      ]
     },
     "metadata": {
      "needs_background": "light"
     },
     "output_type": "display_data"
    }
   ],
   "source": [
    "import pandas as pd\n",
    "import matplotlib.pyplot as plt\n",
    "\n",
    "DAS =pd.read_csv('cpp_DAS.csv')\n",
    "LRU =pd.read_csv('cpp_LRU.csv')\n",
    "LFU =pd.read_csv('cpp_LFU.csv')\n",
    "OPT =pd.read_csv('cpp_OPT.csv')\n",
    "plt.plot(DAS['x'], DAS['y'], label=\"DAS\")\n",
    "plt.plot(LRU['x'], LRU['y'], label=\"LRU\")\n",
    "plt.plot(LFU['x'], LFU['y'], label=\"LFU\")\n",
    "plt.plot(OPT['x'], OPT['y'], label=\"OPT\")\n",
    "\n",
    "plt.title(\"CPP\")\n",
    "plt.xlabel('Cache Size (# of blocks)')\n",
    "plt.ylabel('Hit Ratio (%)')\n",
    "plt.legend()"
   ]
  }
 ],
 "metadata": {
  "kernelspec": {
   "display_name": "Python 3",
   "language": "python",
   "name": "python3"
  },
  "language_info": {
   "codemirror_mode": {
    "name": "ipython",
    "version": 3
   },
   "file_extension": ".py",
   "mimetype": "text/x-python",
   "name": "python",
   "nbconvert_exporter": "python",
   "pygments_lexer": "ipython3",
   "version": "3.6.5"
  }
 },
 "nbformat": 4,
 "nbformat_minor": 2
}
